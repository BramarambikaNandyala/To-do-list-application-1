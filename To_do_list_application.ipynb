{
  "nbformat": 4,
  "nbformat_minor": 0,
  "metadata": {
    "colab": {
      "provenance": [],
      "authorship_tag": "ABX9TyOaINooytZA3PblHiVBkN3m",
      "include_colab_link": true
    },
    "kernelspec": {
      "name": "python3",
      "display_name": "Python 3"
    },
    "language_info": {
      "name": "python"
    }
  },
  "cells": [
    {
      "cell_type": "markdown",
      "metadata": {
        "id": "view-in-github",
        "colab_type": "text"
      },
      "source": [
        "<a href=\"https://colab.research.google.com/github/BramarambikaNandyala/To-do-list-application-1/blob/master/To_do_list_application.ipynb\" target=\"_parent\"><img src=\"https://colab.research.google.com/assets/colab-badge.svg\" alt=\"Open In Colab\"/></a>"
      ]
    },
    {
      "cell_type": "code",
      "execution_count": null,
      "metadata": {
        "id": "CfnzGvXUEQpu"
      },
      "outputs": [],
      "source": [
        "from datetime import datetime\n",
        "\n",
        "class Task:\n",
        "    def __init__(self, description, priority='low', due_date=None, completed=False):\n",
        "        self.description = description\n",
        "        self.priority = priority\n",
        "        self.due_date = due_date\n",
        "        self.completed = completed\n",
        "\n",
        "    def __str__(self):\n",
        "        status = \"Completed\" if self.completed else \"Pending\"\n",
        "        due_date_str = self.due_date.strftime('%Y-%m-%d') if self.due_date else \"No due date\"\n",
        "        return f\"Description: {self.description}\\nPriority: {self.priority}\\nDue Date: {due_date_str}\\nStatus: {status}\\n\"\n",
        "\n",
        "\n",
        "class ToDoList:\n",
        "    def __init__(self):\n",
        "        self.tasks = []\n",
        "\n",
        "    def add_task(self, description, priority='low', due_date=None):\n",
        "        self.tasks.append(Task(description, priority, due_date))\n",
        "        print(\"Task added successfully.\")\n",
        "\n",
        "    def remove_task(self, index):\n",
        "        try:\n",
        "            del self.tasks[index]\n",
        "            print(\"Task removed successfully.\")\n",
        "        except IndexError:\n",
        "            print(\"Task not found.\")\n",
        "\n",
        "    def mark_task_completed(self, index):\n",
        "        try:\n",
        "            self.tasks[index].completed = True\n",
        "            print(\"Task marked as completed.\")\n",
        "        except IndexError:\n",
        "            print(\"Task not found.\")\n",
        "\n",
        "    def view_tasks(self):\n",
        "        if self.tasks:\n",
        "            print(\"Your To-Do List:\")\n",
        "            for index, task in enumerate(self.tasks, start=1):\n",
        "                print(f\"Task {index}:\")\n",
        "                print(task)\n",
        "        else:\n",
        "            print(\"Your to-do list is empty.\")\n",
        "\n",
        "\n",
        "def main():\n",
        "    todo_list = ToDoList()\n",
        "\n",
        "    while True:\n",
        "        print(\"\\n1. Add Task\\n2. Remove Task\\n3. Mark Task as Completed\\n4. View Tasks\\n5. Quit\")\n",
        "        choice = input(\"Enter your choice: \")\n",
        "\n",
        "        if choice == '1':\n",
        "            task = input(\"Enter the task: \")\n",
        "            priority = input(\"Enter the priority (high/medium/low): \").lower()\n",
        "            while priority not in ['high', 'medium', 'low']:\n",
        "                print(\"Invalid priority. Please enter high, medium, or low.\")\n",
        "                priority = input(\"Enter the priority (high/medium/low): \").lower()\n",
        "            due_date_input = input(\"Enter due date (YYYY-MM-DD), or leave blank for no due date: \")\n",
        "            due_date = datetime.strptime(due_date_input, '%Y-%m-%d') if due_date_input else None\n",
        "            todo_list.add_task(task, priority, due_date)\n",
        "        elif choice == '2':\n",
        "            index = int(input(\"Enter the index of the task to remove: \")) - 1\n",
        "            todo_list.remove_task(index)\n",
        "        elif choice == '3':\n",
        "            index = int(input(\"Enter the index of the task to mark as completed: \")) - 1\n",
        "            todo_list.mark_task_completed(index)\n",
        "        elif choice == '4':\n",
        "            todo_list.view_tasks()\n",
        "        elif choice == '5':\n",
        "            print(\"Exiting...\")\n",
        "            break\n",
        "        else:\n",
        "            print(\"Invalid choice. Please try again.\")\n",
        "\n",
        "\n",
        "if __name__ == \"__main__\":\n",
        "    main()\n"
      ]
    }
  ]
}